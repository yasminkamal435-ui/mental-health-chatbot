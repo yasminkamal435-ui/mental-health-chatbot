{
  "nbformat": 4,
  "nbformat_minor": 0,
  "metadata": {
    "colab": {
      "provenance": []
    },
    "kernelspec": {
      "name": "python3",
      "display_name": "Python 3"
    },
    "language_info": {
      "name": "python"
    }
  },
  "cells": [
    {
      "cell_type": "code",
      "execution_count": 2,
      "metadata": {
        "colab": {
          "base_uri": "https://localhost:8080/",
          "height": 73
        },
        "id": "cHFrPgbHqiRO",
        "outputId": "9142cf8c-79f0-47eb-ca3d-61ecd042e295"
      },
      "outputs": [
        {
          "output_type": "display_data",
          "data": {
            "text/plain": [
              "<IPython.core.display.HTML object>"
            ],
            "text/html": [
              "\n",
              "     <input type=\"file\" id=\"files-b5a64603-68a5-40ed-ae86-b58a9c058540\" name=\"files[]\" multiple disabled\n",
              "        style=\"border:none\" />\n",
              "     <output id=\"result-b5a64603-68a5-40ed-ae86-b58a9c058540\">\n",
              "      Upload widget is only available when the cell has been executed in the\n",
              "      current browser session. Please rerun this cell to enable.\n",
              "      </output>\n",
              "      <script>// Copyright 2017 Google LLC\n",
              "//\n",
              "// Licensed under the Apache License, Version 2.0 (the \"License\");\n",
              "// you may not use this file except in compliance with the License.\n",
              "// You may obtain a copy of the License at\n",
              "//\n",
              "//      http://www.apache.org/licenses/LICENSE-2.0\n",
              "//\n",
              "// Unless required by applicable law or agreed to in writing, software\n",
              "// distributed under the License is distributed on an \"AS IS\" BASIS,\n",
              "// WITHOUT WARRANTIES OR CONDITIONS OF ANY KIND, either express or implied.\n",
              "// See the License for the specific language governing permissions and\n",
              "// limitations under the License.\n",
              "\n",
              "/**\n",
              " * @fileoverview Helpers for google.colab Python module.\n",
              " */\n",
              "(function(scope) {\n",
              "function span(text, styleAttributes = {}) {\n",
              "  const element = document.createElement('span');\n",
              "  element.textContent = text;\n",
              "  for (const key of Object.keys(styleAttributes)) {\n",
              "    element.style[key] = styleAttributes[key];\n",
              "  }\n",
              "  return element;\n",
              "}\n",
              "\n",
              "// Max number of bytes which will be uploaded at a time.\n",
              "const MAX_PAYLOAD_SIZE = 100 * 1024;\n",
              "\n",
              "function _uploadFiles(inputId, outputId) {\n",
              "  const steps = uploadFilesStep(inputId, outputId);\n",
              "  const outputElement = document.getElementById(outputId);\n",
              "  // Cache steps on the outputElement to make it available for the next call\n",
              "  // to uploadFilesContinue from Python.\n",
              "  outputElement.steps = steps;\n",
              "\n",
              "  return _uploadFilesContinue(outputId);\n",
              "}\n",
              "\n",
              "// This is roughly an async generator (not supported in the browser yet),\n",
              "// where there are multiple asynchronous steps and the Python side is going\n",
              "// to poll for completion of each step.\n",
              "// This uses a Promise to block the python side on completion of each step,\n",
              "// then passes the result of the previous step as the input to the next step.\n",
              "function _uploadFilesContinue(outputId) {\n",
              "  const outputElement = document.getElementById(outputId);\n",
              "  const steps = outputElement.steps;\n",
              "\n",
              "  const next = steps.next(outputElement.lastPromiseValue);\n",
              "  return Promise.resolve(next.value.promise).then((value) => {\n",
              "    // Cache the last promise value to make it available to the next\n",
              "    // step of the generator.\n",
              "    outputElement.lastPromiseValue = value;\n",
              "    return next.value.response;\n",
              "  });\n",
              "}\n",
              "\n",
              "/**\n",
              " * Generator function which is called between each async step of the upload\n",
              " * process.\n",
              " * @param {string} inputId Element ID of the input file picker element.\n",
              " * @param {string} outputId Element ID of the output display.\n",
              " * @return {!Iterable<!Object>} Iterable of next steps.\n",
              " */\n",
              "function* uploadFilesStep(inputId, outputId) {\n",
              "  const inputElement = document.getElementById(inputId);\n",
              "  inputElement.disabled = false;\n",
              "\n",
              "  const outputElement = document.getElementById(outputId);\n",
              "  outputElement.innerHTML = '';\n",
              "\n",
              "  const pickedPromise = new Promise((resolve) => {\n",
              "    inputElement.addEventListener('change', (e) => {\n",
              "      resolve(e.target.files);\n",
              "    });\n",
              "  });\n",
              "\n",
              "  const cancel = document.createElement('button');\n",
              "  inputElement.parentElement.appendChild(cancel);\n",
              "  cancel.textContent = 'Cancel upload';\n",
              "  const cancelPromise = new Promise((resolve) => {\n",
              "    cancel.onclick = () => {\n",
              "      resolve(null);\n",
              "    };\n",
              "  });\n",
              "\n",
              "  // Wait for the user to pick the files.\n",
              "  const files = yield {\n",
              "    promise: Promise.race([pickedPromise, cancelPromise]),\n",
              "    response: {\n",
              "      action: 'starting',\n",
              "    }\n",
              "  };\n",
              "\n",
              "  cancel.remove();\n",
              "\n",
              "  // Disable the input element since further picks are not allowed.\n",
              "  inputElement.disabled = true;\n",
              "\n",
              "  if (!files) {\n",
              "    return {\n",
              "      response: {\n",
              "        action: 'complete',\n",
              "      }\n",
              "    };\n",
              "  }\n",
              "\n",
              "  for (const file of files) {\n",
              "    const li = document.createElement('li');\n",
              "    li.append(span(file.name, {fontWeight: 'bold'}));\n",
              "    li.append(span(\n",
              "        `(${file.type || 'n/a'}) - ${file.size} bytes, ` +\n",
              "        `last modified: ${\n",
              "            file.lastModifiedDate ? file.lastModifiedDate.toLocaleDateString() :\n",
              "                                    'n/a'} - `));\n",
              "    const percent = span('0% done');\n",
              "    li.appendChild(percent);\n",
              "\n",
              "    outputElement.appendChild(li);\n",
              "\n",
              "    const fileDataPromise = new Promise((resolve) => {\n",
              "      const reader = new FileReader();\n",
              "      reader.onload = (e) => {\n",
              "        resolve(e.target.result);\n",
              "      };\n",
              "      reader.readAsArrayBuffer(file);\n",
              "    });\n",
              "    // Wait for the data to be ready.\n",
              "    let fileData = yield {\n",
              "      promise: fileDataPromise,\n",
              "      response: {\n",
              "        action: 'continue',\n",
              "      }\n",
              "    };\n",
              "\n",
              "    // Use a chunked sending to avoid message size limits. See b/62115660.\n",
              "    let position = 0;\n",
              "    do {\n",
              "      const length = Math.min(fileData.byteLength - position, MAX_PAYLOAD_SIZE);\n",
              "      const chunk = new Uint8Array(fileData, position, length);\n",
              "      position += length;\n",
              "\n",
              "      const base64 = btoa(String.fromCharCode.apply(null, chunk));\n",
              "      yield {\n",
              "        response: {\n",
              "          action: 'append',\n",
              "          file: file.name,\n",
              "          data: base64,\n",
              "        },\n",
              "      };\n",
              "\n",
              "      let percentDone = fileData.byteLength === 0 ?\n",
              "          100 :\n",
              "          Math.round((position / fileData.byteLength) * 100);\n",
              "      percent.textContent = `${percentDone}% done`;\n",
              "\n",
              "    } while (position < fileData.byteLength);\n",
              "  }\n",
              "\n",
              "  // All done.\n",
              "  yield {\n",
              "    response: {\n",
              "      action: 'complete',\n",
              "    }\n",
              "  };\n",
              "}\n",
              "\n",
              "scope.google = scope.google || {};\n",
              "scope.google.colab = scope.google.colab || {};\n",
              "scope.google.colab._files = {\n",
              "  _uploadFiles,\n",
              "  _uploadFilesContinue,\n",
              "};\n",
              "})(self);\n",
              "</script> "
            ]
          },
          "metadata": {}
        },
        {
          "output_type": "stream",
          "name": "stdout",
          "text": [
            "Saving train.csv to train.csv\n"
          ]
        }
      ],
      "source": [
        "from google.colab import files\n",
        "uploaded = files.upload()\n",
        "\n"
      ]
    },
    {
      "cell_type": "code",
      "source": [
        "import pandas as pd\n",
        "from sklearn.feature_extraction.text import TfidfVectorizer\n",
        "from sklearn.metrics.pairwise import cosine_similarity\n",
        "from sklearn.feature_extraction.text import TfidfVectorizer\n",
        "import os\n",
        "from sentence_transformers import SentenceTransformer, util\n",
        "import gradio as gr\n",
        "import torch\n",
        "from pyngrok import ngrok\n",
        "import threading\n",
        "\n",
        "\n",
        "\n"
      ],
      "metadata": {
        "id": "JWtLBlr1aScC"
      },
      "execution_count": 79,
      "outputs": []
    },
    {
      "cell_type": "code",
      "source": [
        "print(os.listdir())\n"
      ],
      "metadata": {
        "colab": {
          "base_uri": "https://localhost:8080/"
        },
        "id": "sGVHC_jnvX8t",
        "outputId": "150ba90e-f729-4488-8207-36f56b992342"
      },
      "execution_count": 129,
      "outputs": [
        {
          "output_type": "stream",
          "name": "stdout",
          "text": [
            "['.config', 'train.csv', 'unnamed (3).jpg', 'train (1).csv', '.gradio', 'unnamed (2).jpg', 'unnamed.jpg', 'context_embeddings.npy', 'train (2).csv', 'unnamed (1).jpg', 'sample_data']\n"
          ]
        }
      ]
    },
    {
      "cell_type": "code",
      "source": [
        "df = pd.read_csv(\"train.csv\")\n",
        "df[\"Context\"] = df[\"Context\"].fillna(\"\")\n",
        "df[\"Response\"] = df[\"Response\"].fillna(\"\")\n",
        "\n",
        "model = SentenceTransformer('multi-qa-mpnet-base-dot-v1')\n",
        "\n",
        "contexts = df[\"Context\"].tolist()\n",
        "responses = df[\"Response\"].tolist()\n",
        "context_embeddings = model.encode(contexts, convert_to_tensor=True)\n",
        "\n",
        "SIMILARITY_THRESHOLD = 0.55\n",
        "TOP_K = 5\n",
        "\n",
        "def chatbot(user_input):\n",
        "    user_input = user_input.strip()\n",
        "    if not user_input:\n",
        "        return \"You can write something so we can start chatting.\"\n",
        "\n",
        "    user_embedding = model.encode(user_input, convert_to_tensor=True)\n",
        "    cos_scores = util.cos_sim(user_embedding, context_embeddings)[0]\n",
        "    top_k_scores, top_k_indices = torch.topk(cos_scores, k=TOP_K)\n",
        "    best_score = top_k_scores[0].item()\n",
        "    best_idx = top_k_indices[0].item()\n",
        "    if best_score >= SIMILARITY_THRESHOLD:\n",
        "        return responses[best_idx]\n",
        "    else:\n",
        "        return \"Could you explain what you mean more?\"\n",
        "\n",
        "css = \"\"\"\n",
        ".gradio-container {\n",
        "    background: url(\"https://images.unsplash.com/photo-1507525428034-b723cf961d3e\") no-repeat center center fixed;\n",
        "    background-size: cover;\n",
        "    font-family: Arial, sans-serif;\n",
        "}\n",
        ".chat-title {\n",
        "    color: white;\n",
        "    font-size: 36px;\n",
        "    font-weight: bold;\n",
        "    text-align: center;\n",
        "    margin-bottom: 20px;\n",
        "    text-shadow: 2px 2px 4px rgba(128,128,128,0.8);\n",
        "}\n",
        ".message-container {\n",
        "    display: flex;\n",
        "    flex-direction: column;\n",
        "    gap: 15px;\n",
        "    margin: 10px 0;\n",
        "}\n",
        ".user-message, .bot-message {\n",
        "    max-width: 70%;\n",
        "    padding: 10px 15px;\n",
        "    border-radius: 20px;\n",
        "    word-wrap: break-word;\n",
        "}\n",
        ".user-message {\n",
        "    background-color: #ffffff;\n",
        "    align-self: flex-end;\n",
        "    margin-bottom: 10px;\n",
        "    box-shadow: 0 2px 5px rgba(0,0,0,0.1);\n",
        "}\n",
        ".bot-message {\n",
        "    background-color: #e5e5e5;\n",
        "    align-self: flex-start;\n",
        "    margin-bottom: 10px;\n",
        "    box-shadow: 0 2px 5px rgba(0,0,0,0.1);\n",
        "}\n",
        "input[type=\"text\"] {\n",
        "    border-radius: 20px !important;\n",
        "    padding: 10px;\n",
        "    width: 100% !important;\n",
        "}\n",
        "\"\"\"\n",
        "\n",
        "with gr.Blocks(css=css) as iface:\n",
        "    gr.HTML(\"<div class='chat-title'>Mental Health Chatbot</div>\")\n",
        "    chat_history = gr.HTML(\"<div class='message-container'></div>\")\n",
        "    user_input = gr.Textbox(label=\"Type your message here\", placeholder=\"Type here...\")\n",
        "\n",
        "    def respond(user_text, history):\n",
        "        bot_reply = chatbot(user_text)\n",
        "        new_history = history + f\"\"\"\n",
        "        <div class='user-message'>{user_text}</div>\n",
        "        <div class='bot-message'>{bot_reply}</div>\n",
        "        \"\"\"\n",
        "        return new_history, \"\"\n",
        "\n",
        "    user_input.submit(respond, [user_input, chat_history], [chat_history, user_input])\n",
        "\n",
        "iface.launch(share=True)\n"
      ],
      "metadata": {
        "colab": {
          "base_uri": "https://localhost:8080/",
          "height": 614
        },
        "id": "eYi5-4oNtvAd",
        "outputId": "5fd03419-0161-4b5e-eb52-8c4da9d63cf0"
      },
      "execution_count": 84,
      "outputs": [
        {
          "output_type": "stream",
          "name": "stdout",
          "text": [
            "Colab notebook detected. To show errors in colab notebook, set debug=True in launch()\n",
            "* Running on public URL: https://d948c0758f7611f9b0.gradio.live\n",
            "\n",
            "This share link expires in 1 week. For free permanent hosting and GPU upgrades, run `gradio deploy` from the terminal in the working directory to deploy to Hugging Face Spaces (https://huggingface.co/spaces)\n"
          ]
        },
        {
          "output_type": "display_data",
          "data": {
            "text/plain": [
              "<IPython.core.display.HTML object>"
            ],
            "text/html": [
              "<div><iframe src=\"https://d948c0758f7611f9b0.gradio.live\" width=\"100%\" height=\"500\" allow=\"autoplay; camera; microphone; clipboard-read; clipboard-write;\" frameborder=\"0\" allowfullscreen></iframe></div>"
            ]
          },
          "metadata": {}
        },
        {
          "output_type": "execute_result",
          "data": {
            "text/plain": []
          },
          "metadata": {},
          "execution_count": 84
        }
      ]
    },
    {
      "cell_type": "code",
      "source": [],
      "metadata": {
        "id": "J7BaGHvqtvMD"
      },
      "execution_count": null,
      "outputs": []
    },
    {
      "cell_type": "code",
      "source": [],
      "metadata": {
        "id": "6D9_R3sAtvPO"
      },
      "execution_count": null,
      "outputs": []
    }
  ]
}